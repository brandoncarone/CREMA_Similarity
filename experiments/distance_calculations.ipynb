{
 "cells": [
  {
   "cell_type": "code",
   "execution_count": 15,
   "id": "b42e70c1",
   "metadata": {},
   "outputs": [],
   "source": [
    "import numpy as np\n",
    "import os\n",
    "from numpy import genfromtxt\n",
    "from os import listdir\n",
    "import csv"
   ]
  },
  {
   "cell_type": "code",
   "execution_count": 17,
   "id": "d878e65c",
   "metadata": {},
   "outputs": [],
   "source": [
    "def one_elementwise_diff(mat1, mat2):\n",
    "    return np.sum(np.abs(mat1 - mat2))"
   ]
  },
  {
   "cell_type": "code",
   "execution_count": 18,
   "id": "42c50279",
   "metadata": {},
   "outputs": [],
   "source": [
    "hidden_layers_folder = 'crema/ccm-experiment-hidden-layers'\n",
    "filepaths = [f for f in listdir(hidden_layers_folder) ]\n",
    "c_maj_ref_path = os.path.join(hidden_layers_folder, 'hidden_layer_pred_file_Cmaj7_ref.csv')\n",
    "c_maj_matrix = genfromtxt(c_maj_ref_path, delimiter=',')\n",
    "g_maj_ref_path = os.path.join(hidden_layers_folder, 'hidden_layer_pred_file_Gmaj7_ref.csv')\n",
    "g_maj_matrix = genfromtxt(g_maj_ref_path, delimiter=',')\n",
    "\n",
    "out_c_maj_diffs = {}\n",
    "for filepath in filepaths:\n",
    "    filename = os.path.join(hidden_layers_folder, filepath)\n",
    "    matrix = genfromtxt(filename, delimiter=',')\n",
    "    \n",
    "    # crop row length to the min of the 2 because both matrices should represent only one chord\n",
    "    # so changes over time should not be significant\n",
    "    min_row = min(matrix.shape[0], c_maj_matrix.shape[0])\n",
    "#     print(f\"row len: {matrix.shape[0]}\")\n",
    "    \n",
    "    matrix = matrix[:min_row, :]\n",
    "    c_maj_matrix = c_maj_matrix[:min_row, :]\n",
    "    \n",
    "    diff = one_elementwise_diff(matrix, c_maj_matrix)\n",
    "    fn_save = filepath.replace(\".csv\", '')\n",
    "    out_c_maj_diffs[fn_save] = diff\n",
    "    "
   ]
  },
  {
   "cell_type": "code",
   "execution_count": 20,
   "id": "04ecd20f",
   "metadata": {},
   "outputs": [
    {
     "name": "stdout",
     "output_type": "stream",
     "text": [
      "{'hidden_layer_pred_file_45': 13808.313274825108, 'hidden_layer_pred_file_44': 15042.775805120124, 'hidden_layer_pred_file_50': 15291.809823552263, 'hidden_layer_pred_file_Gmaj7_ref': 13246.536766801495, 'hidden_layer_pred_file_46': 14891.777686663205, 'hidden_layer_pred_file_47': 15213.003982512862, 'hidden_layer_pred_file_43': 14137.654915357707, 'hidden_layer_pred_file_42': 15429.653167661862, 'hidden_layer_pred_file_40': 11323.649253423559, 'hidden_layer_pred_file_41': 14786.25010583282, 'hidden_layer_pred_file_32': 13157.074612211436, 'hidden_layer_pred_file_26': 13657.698681552312, 'hidden_layer_pred_file_27': 13072.133738082484, 'hidden_layer_pred_file_33': 12998.875172015862, 'hidden_layer_pred_file_25': 11338.540089656715, 'hidden_layer_pred_file_31': 13296.97447521519, 'hidden_layer_pred_file_19': 10043.629997122334, 'hidden_layer_pred_file_18': 10373.099416576792, 'hidden_layer_pred_file_30': 12664.858829054981, 'hidden_layer_pred_file_24': 11059.875364622218, 'hidden_layer_pred_file_20': 10110.192512948415, 'hidden_layer_pred_file_34': 12972.82603166392, 'hidden_layer_pred_file_35': 13507.018398373155, 'hidden_layer_pred_file_21': 10428.456542980974, 'hidden_layer_pred_file_37': 10398.889992577722, 'hidden_layer_pred_file_23': 11717.257027614745, 'hidden_layer_pred_file_9': 4592.820632050163, 'hidden_layer_pred_file_8': 6683.12702584127, 'hidden_layer_pred_file_22': 10798.203083912143, 'hidden_layer_pred_file_36': 13882.849537097034, 'hidden_layer_pred_file_13': 8218.146291637211, 'hidden_layer_pred_file_Cmaj7_ref': 0.0, 'hidden_layer_pred_file_5': 5331.1701295381645, 'hidden_layer_pred_file_4': 5120.777691006311, 'hidden_layer_pred_file_12': 9089.160871998989, 'hidden_layer_pred_file_10': 5823.123706930666, 'hidden_layer_pred_file_38': 11855.026473385864, 'hidden_layer_pred_file_6': 4223.559549693018, 'hidden_layer_pred_file_7': 6178.651779865264, 'hidden_layer_pred_file_39': 14155.065959874424, 'hidden_layer_pred_file_11': 7460.732401295449, 'hidden_layer_pred_file_29': 12744.670400441508, 'hidden_layer_pred_file_15': 8308.434977974044, 'hidden_layer_pred_file_3': 2551.235633445205, 'hidden_layer_pred_file_2': 1666.0647500279592, 'hidden_layer_pred_file_14': 5902.627382186358, 'hidden_layer_pred_file_28': 13062.326988615794, 'hidden_layer_pred_file_1': 1831.127591097611, 'hidden_layer_pred_file_17': 11058.204114840366, 'hidden_layer_pred_file_49': 14708.665020496235, 'hidden_layer_pred_file_48': 14773.083453950589}\n"
     ]
    }
   ],
   "source": [
    "print(out_c_maj_diffs)\n",
    "\n"
   ]
  },
  {
   "cell_type": "code",
   "execution_count": 23,
   "id": "e47f3177",
   "metadata": {},
   "outputs": [
    {
     "ename": "KeyError",
     "evalue": "'hidden_layer_pred_file_16'",
     "output_type": "error",
     "traceback": [
      "\u001b[0;31m---------------------------------------------------------------------------\u001b[0m",
      "\u001b[0;31mKeyError\u001b[0m                                  Traceback (most recent call last)",
      "Cell \u001b[0;32mIn[23], line 19\u001b[0m\n\u001b[1;32m     17\u001b[0m     s \u001b[38;5;241m=\u001b[39m stimuli\u001b[38;5;241m.\u001b[39mreplace(\u001b[38;5;124m'\u001b[39m\u001b[38;5;124m.wav\u001b[39m\u001b[38;5;124m'\u001b[39m, \u001b[38;5;124m'\u001b[39m\u001b[38;5;124m'\u001b[39m)\n\u001b[1;32m     18\u001b[0m     key \u001b[38;5;241m=\u001b[39m \u001b[38;5;124mf\u001b[39m\u001b[38;5;124m\"\u001b[39m\u001b[38;5;124mhidden_layer_pred_file_\u001b[39m\u001b[38;5;132;01m{\u001b[39;00ms\u001b[38;5;132;01m}\u001b[39;00m\u001b[38;5;124m\"\u001b[39m\n\u001b[0;32m---> 19\u001b[0m     out_list\u001b[38;5;241m.\u001b[39mappend([stimuli, res[key]])\n\u001b[1;32m     20\u001b[0m \u001b[38;5;28mprint\u001b[39m(out_list)\n",
      "\u001b[0;31mKeyError\u001b[0m: 'hidden_layer_pred_file_16'"
     ]
    }
   ],
   "source": [
    "# remove reference keys\n",
    "res = dict()\n",
    "substr = 'ref'\n",
    "for key, val in out_c_maj_diffs.items():\n",
    "    if not substr in key:\n",
    "        res[key] = val\n",
    "\n",
    "\n",
    "with open('wav_list.csv') as f:\n",
    "    reader = csv.reader(f)\n",
    "    data = list(reader)\n",
    "\n",
    "# print(data)\n",
    "out_list = []\n",
    "for row in data[1:]:\n",
    "    stimuli = row[0]\n",
    "    s = stimuli.replace('.wav', '')\n",
    "    key = f\"hidden_layer_pred_file_{s}\"\n",
    "    out_list.append([stimuli, res[key]])\n",
    "print(out_list)  "
   ]
  },
  {
   "cell_type": "code",
   "execution_count": null,
   "id": "f71a63f8",
   "metadata": {},
   "outputs": [],
   "source": []
  }
 ],
 "metadata": {
  "kernelspec": {
   "display_name": "Python 3 (ipykernel)",
   "language": "python",
   "name": "python3"
  },
  "language_info": {
   "codemirror_mode": {
    "name": "ipython",
    "version": 3
   },
   "file_extension": ".py",
   "mimetype": "text/x-python",
   "name": "python",
   "nbconvert_exporter": "python",
   "pygments_lexer": "ipython3",
   "version": "3.11.5"
  }
 },
 "nbformat": 4,
 "nbformat_minor": 5
}
